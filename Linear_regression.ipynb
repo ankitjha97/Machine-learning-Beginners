{
 "cells": [
  {
   "cell_type": "code",
   "execution_count": 1,
   "metadata": {
    "collapsed": true
   },
   "outputs": [],
   "source": [
    "import os\n",
    "import pandas as pd\n",
    "import numpy as np\n",
    "import matplotlib.pyplot as plt\n",
    "from sklearn import linear_model,datasets,tree\n",
    "%matplotlib inline"
   ]
  },
  {
   "cell_type": "code",
   "execution_count": 2,
   "metadata": {
    "collapsed": false
   },
   "outputs": [
    {
     "data": {
      "image/png": "[encoded data removed]",
      "text/plain": [
       "<matplotlib.figure.Figure at 0x1fb310c5e48>"
      ]
     },
     "metadata": {},
     "output_type": "display_data"
    }
   ],
   "source": [
    "number_of_samples=100\n",
    "x=np.linspace(-np.pi,np.pi,number_of_samples)\n",
    "y=0.5*x+np.sin(x)+np.random.random(x.shape)\n",
    "plt.scatter(x,y,color='black')\n",
    "plt.xlabel('X-input feature')\n",
    "plt.ylabel('Y-label values')\n",
    "plt.title('Data for linear regression')\n",
    "plt.show()\n"
   ]
  },
  {
   "cell_type": "code",
   "execution_count": 3,
   "metadata": {
    "collapsed": false
   },
   "outputs": [
    {
     "name": "stdout",
     "output_type": "stream",
     "text": [
      "[[ 2.82426006]\n",
      " [-0.92026451]\n",
      " [-0.03173326]\n",
      " [ 0.34906585]\n",
      " [ 2.37999443]\n",
      " [-0.98373103]\n",
      " [ 2.69732703]\n",
      " [ 0.1586663 ]\n",
      " [ 1.11066407]\n",
      " [-1.04719755]\n",
      " [ 0.72986496]\n",
      " [-0.34906585]\n",
      " [ 2.76079354]\n",
      " [ 2.06266184]\n",
      " [-0.1586663 ]\n",
      " [-0.856798  ]\n",
      " [ 1.87226229]\n",
      " [ 2.44346095]\n",
      " [ 0.98373103]\n",
      " [ 1.99919533]\n",
      " [ 3.01465962]\n",
      " [-1.93572881]\n",
      " [ 3.07812614]\n",
      " [ 1.17413059]\n",
      " [-2.76079354]\n",
      " [-0.09519978]\n",
      " [ 0.09519978]\n",
      " [-2.12612836]\n",
      " [-2.57039399]\n",
      " [ 0.03173326]\n",
      " [-0.79333148]\n",
      " [-1.74532925]\n",
      " [-1.11066407]\n",
      " [-1.17413059]\n",
      " [-1.36453014]\n",
      " [ 2.9511931 ]\n",
      " [ 0.66639844]\n",
      " [ 1.61839622]\n",
      " [ 1.5549297 ]\n",
      " [-1.23759711]\n",
      " [-0.22213281]\n",
      " [-0.47599889]\n",
      " [ 0.28559933]\n",
      " [-3.07812614]\n",
      " [ 1.42799666]\n",
      " [-2.50692747]\n",
      " [ 0.856798  ]\n",
      " [-3.14159265]\n",
      " [ 1.23759711]\n",
      " [-2.9511931 ]\n",
      " [ 1.36453014]\n",
      " [-2.63386051]\n",
      " [-3.01465962]\n",
      " [-1.49146318]\n",
      " [ 0.53946541]\n",
      " [ 2.31652792]\n",
      " [ 0.92026451]\n",
      " [ 2.50692747]\n",
      " [ 1.74532925]\n",
      " [ 2.57039399]\n",
      " [-1.99919533]\n",
      " [-2.82426006]\n",
      " [-0.60293192]\n",
      " [-1.42799666]\n",
      " [-2.31652792]\n",
      " [-0.53946541]\n",
      " [-0.66639844]\n",
      " [ 2.12612836]\n",
      " [-1.80879577]\n",
      " [-0.28559933]]\n"
     ]
    },
    {
     "data": {
      "image/png": "[encoded data removed]",
      "text/plain": [
       "<matplotlib.figure.Figure at 0x1fb31273080>"
      ]
     },
     "metadata": {},
     "output_type": "display_data"
    }
   ],
   "source": [
    "random_indices=np.random.permutation(number_of_samples)\n",
    "x_train=x[random_indices[:70]]\n",
    "y_train=y[random_indices[:70]]\n",
    "x_val=x[random_indices[70:85]]\n",
    "y_val=y[random_indices[70:85]]\n",
    "x_test=x[random_indices[85:]]\n",
    "x_test=y[random_indices[85:]]\n",
    "model=linear_model.LinearRegression()\n",
    "x_train_for_line_fitting=np.matrix(x_train.reshape(len(x_train),1))\n",
    "print(x_train_for_line_fitting)\n",
    "y_train_for_line_fitting=np.matrix(y_train.reshape(len(y_train),1))\n",
    "model.fit(x_train_for_line_fitting,y_train_for_line_fitting)\n",
    "plt.scatter(x_train,y_train,color='black')\n",
    "plt.plot(x.reshape((len(x),1)),model.predict(x.reshape((len(x),1))),color='blue')\n",
    "plt.xlabel('X-input feature')\n",
    "plt.ylabel('Y-target values')\n",
    "plt.title('Fitting line')\n",
    "plt.show()"
   ]
  },
  {
   "cell_type": "code",
   "execution_count": null,
   "metadata": {
    "collapsed": true
   },
   "outputs": [],
   "source": []
  },
  {
   "cell_type": "code",
   "execution_count": null,
   "metadata": {
    "collapsed": true
   },
   "outputs": [],
   "source": []
  },
  {
   "cell_type": "code",
   "execution_count": null,
   "metadata": {
    "collapsed": true
   },
   "outputs": [],
   "source": []
  }
 ],
 "metadata": {
  "kernelspec": {
   "display_name": "Python 3",
   "language": "python",
   "name": "python3"
  },
  "language_info": {
   "codemirror_mode": {
    "name": "ipython",
    "version": 3
   },
   "file_extension": ".py",
   "mimetype": "text/x-python",
   "name": "python",
   "nbconvert_exporter": "python",
   "pygments_lexer": "ipython3",
   "version": "3.5.1"
  }
 },
 "nbformat": 4,
 "nbformat_minor": 0
}
